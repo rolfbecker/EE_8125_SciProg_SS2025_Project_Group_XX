{
 "cells": [
  {
   "cell_type": "markdown",
   "metadata": {},
   "source": [
    "<font size=6em color=\"red\">Student Group Description</font>\n",
    "\n",
    "Update the table below with your data.\n",
    "\n",
    "| Matriculation Number | Name | Contribution in this notebook |\n",
    "| :--- | :--- | :--- |\n",
    "| 99999 | Alice Wonderland | Example: 50% of all |\n",
    "| 99998 | John Doe | Example: 50% of Task 3.2  |\n"
   ]
  },
  {
   "cell_type": "markdown",
   "metadata": {},
   "source": [
    "# Task 1 (10 P): Photovoltaics - Plane-of-Array Irradiance under Clear Sky Assumption\n"
   ]
  },
  {
   "cell_type": "markdown",
   "metadata": {},
   "source": [
    "`Author: Rolf Becker, Version: V003, Date: 2024-07-23, License: CC BY-NC-SA 4.0`"
   ]
  },
  {
   "cell_type": "markdown",
   "metadata": {
    "tags": []
   },
   "source": [
    "## 1. Introduction: The Sandia PV Performance Modeling Collaborative\n",
    "\n",
    "\n",
    "The [**Sandia National Laboratories**](https://www.sandia.gov/) of the USA are renowned for their research and development in [**renewable energies**](https://energy.sandia.gov/programs/renewable-energy/). \n",
    "<br>Sandia established the [**PV Performance Modeling Collaborative (PVPMC)**]( https://pvpmc.sandia.gov/), a collabration between industry and national laboratory.\n",
    "\n",
    "<img src=\"https://www.sandia.gov/app/uploads/sites/243/2023/01/Picture1-1024x768.png\" width=600 />\n",
    "\n",
    "_Fig. 1a: PV performance modeling steps._ (Source: https://pvpmc.sandia.gov/)\n",
    "\n",
    "<img src=\"./images/pvpmc2.png\" />\n",
    "\n",
    "_Fig. 1b: PV performance modeling steps, previous version with more annotations._ \n",
    "\n",
    "\n",
    "The PVPMC defined **10 modeling steps** to assess PV module performance shown the the above diagrams (Figs. 1a,b). \n",
    "<br>\n",
    "This exercise focuses on the **two modeling steps:**\n",
    "1. **Irradiance and Weather Inputs** (aka Irradiance and Weather)\n",
    "1. **Plane of Array Irradiance** (aka Incidence Irradiance)\n",
    "\n",
    "Click on the upper left menu item **[Modeling Guide](https://pvpmc.sandia.gov/modeling-guide/)**. The Modeling Guide describes all the modeling steps. \n",
    "\n",
    "**Q 1.1 (0 P):** Skim through all subsections of chapter [**Weather and Design**](https://pvpmc.sandia.gov/modeling-guide/1-weather-design-inputs/) to get a rough overview of the first modelling steps."
   ]
  },
  {
   "cell_type": "code",
   "execution_count": null,
   "metadata": {},
   "outputs": [],
   "source": []
  },
  {
   "cell_type": "markdown",
   "metadata": {},
   "source": [
    "**Q 1.2 (1 P):** Read the section [**Irradiance & Insolation**](https://pvpmc.sandia.gov/modeling-guide/1-weather-design-inputs/irradiance-insolation) (not insulation!). \n",
    " How do you determine (= calculate) the insolation from the irradiance? What are typcial **units** for these two quantities?"
   ]
  },
  {
   "cell_type": "markdown",
   "metadata": {},
   "source": [
    "**Answer:** ..."
   ]
  },
  {
   "cell_type": "markdown",
   "metadata": {},
   "source": [
    "**Q 1.3 (1 P):** What are **normal irradiance**, **diffuse horizontal irradiance** and **global horizontal irradiance?** What are the typical **abbreviations / variable names** of these quantities? **Units?**"
   ]
  },
  {
   "cell_type": "markdown",
   "metadata": {},
   "source": [
    "**Answer:** ..."
   ]
  },
  {
   "cell_type": "markdown",
   "metadata": {},
   "source": [
    "## 2. Measuring Instruments for Global Radiation"
   ]
  },
  {
   "cell_type": "markdown",
   "metadata": {},
   "source": [
    "**Q 2.1 (1 P):** Pyranometers are used to measure the global irradiance (aka \"global radiation\") usually with a 180° field of view (aka \"global\") in all directions: They collect radiation from the hemisphere above the instrument plane. Read the **Wikipedia** article on [**pyranometer**](https://en.wikipedia.org/wiki/Pyranometer). **Compare** a **thermopile pyranometer** with a **photovoltaic pyranometer.** They are fundamentally different. \n",
    "<br>(1) Briefly explain the different underlying **physical principles** utilized by these two sensor types. \n",
    "<br>(2) Compare their **spectral response (SR)** curves.  What do you observe? (Note: The figure in the article uses arbitrary units for the SR, i.e. no units or y axis scales are given. A relative comparison is still possible).\n",
    "<br>(3) The article states that a thermopile sensor has a flat spectral response (\"flat spectrum\") covering 0.3 to 50  $\\mathrm{\\mu m}$, but the spectral response curves shown in the article indicate that the response of a thermopile pyranometer is **limited to 2.8 $\\mathrm{\\mu m}$.** What causes this limitation?"
   ]
  },
  {
   "cell_type": "markdown",
   "metadata": {},
   "source": [
    "**Answer:** ..."
   ]
  },
  {
   "cell_type": "markdown",
   "metadata": {
    "tags": []
   },
   "source": [
    "## 3. PVLIB Python Library\n",
    "\n",
    "The PVPMC provides the comprehensive library `pvlib` for numerical quantitative evaluation of planned PV power plants and support during the design phase. \n",
    "All functions needed for the modeling steps are implemented in two programming libraries provided for Matlab and Python, respectively. \n",
    "\n",
    "Relevant links are:\n",
    "\n",
    "* pvlib toolbox home page: https://pvpmc.sandia.gov/tools/pv_lib-toolbox/\n",
    "* Source code as well as example and tutorial code: https://github.com/pvlib/pvlib-python\n",
    "* Documentation: https://pvlib-python.readthedocs.io/en/stable/index.html\n",
    "\n"
   ]
  },
  {
   "cell_type": "markdown",
   "metadata": {},
   "source": [
    "### Installation\n",
    "\n",
    "There are several ways to install the PVLIB package depending on your development environment.\n",
    "\n",
    "You need the following imports. **Check** whether the following packages are already installed by execting the following code cell:"
   ]
  },
  {
   "cell_type": "code",
   "execution_count": 1,
   "metadata": {},
   "outputs": [],
   "source": [
    "import pvlib\n",
    "import pandas as pd\n",
    "import numpy as np\n",
    "import matplotlib.pyplot as plt"
   ]
  },
  {
   "cell_type": "markdown",
   "metadata": {},
   "source": [
    "#### Option 1: Installation on the Jupyter Hub of HSRW's Earth Observation Lab ####"
   ]
  },
  {
   "cell_type": "markdown",
   "metadata": {},
   "source": [
    "For the students of HSRW: In case you are using the Jupyter Hub of the HSRW's Earth Observation Lab the PVLIB is probably not installed by default (as of 2024-07-23). \n",
    "<br>Use `pip install pvlib` to install the package. Execute the following cell (you may have to re-install it after you have finished and restarted your JupyterLab session). After the installation you have to **restart the kernel!**"
   ]
  },
  {
   "cell_type": "code",
   "execution_count": 2,
   "metadata": {},
   "outputs": [],
   "source": [
    "pip install pvlib"
   ]
  },
  {
   "cell_type": "markdown",
   "metadata": {},
   "source": [
    "#### Option 2: Local Installation on Own Computers Using the Anaconda Distribution ####"
   ]
  },
  {
   "cell_type": "markdown",
   "metadata": {},
   "source": [
    "Create a Conda environment and Install the library. It is highly recommended (but not mandatory) that you create a dedicated conda environment first with all necessary installations (e.g. jupyter, numpy, etc.) and to install pvlib into that isolated environment.\n",
    "\n",
    "Execute \n",
    "<br>\n",
    "`conda create -c conda-forge -n pvlib python=3 jupyterlab matplotlib pvlib-python` \n",
    "<br>on the Anaconda prompt (Windows) or another terminal. \n",
    "\n",
    "In this terminal activate the new conda environment (`conda activate pvlib`), change to your intended project root folder (`cd ...`), and start JupyterLab in this environment (`jupyter lab`). The folder you start Jupyter from will be the topmost folder (root folder) in the Jupyter file browser.\n",
    "\n"
   ]
  },
  {
   "cell_type": "markdown",
   "metadata": {},
   "source": [
    "#### Option 3: Possible, but not supported by the EOLab team."
   ]
  },
  {
   "cell_type": "markdown",
   "metadata": {},
   "source": [
    "### Questions "
   ]
  },
  {
   "cell_type": "markdown",
   "metadata": {},
   "source": [
    "**Q: 3.1 (1 P)** Get an **overview** of the [**pvlib software documentation**](https://pvlib-python.readthedocs.io/en/stable/index.html) (intro, tutorial, gallery, api reference). The [**API reference**](https://pvlib-python.readthedocs.io/en/stable/reference/index.html) provides a list of all functions and classes provided by the toolbox.\n",
    "<br>What does `pvlib.location.Location.get_clearsky()` do?"
   ]
  },
  {
   "cell_type": "markdown",
   "metadata": {},
   "source": [
    "**Answer:** ..."
   ]
  },
  {
   "cell_type": "markdown",
   "metadata": {
    "tags": []
   },
   "source": [
    "## 4. Plane of Array (POA) Irradiance under Clear Sky Assumption\n",
    "\n",
    "Read subsection [**Plane of Array (POA) Irradiance**](https://pvpmc.sandia.gov/modeling-steps/1-weather-design-inputs/plane-of-array-poa-irradiance/) of the PVPMC Modeling Guide.\n",
    "\n",
    "When you set up a solar PV generator it usally consists of a set of modules which is called array. The normal vector (aka normal) of the array is the direction vector (unit length) perpendicular on the PV modules surface. Usually all modules of an PV module array point in the same direction, i.e. have the same normal vector. These parallel PV module surfaces are summarized as the **Plane of Array (POA)**. The direction of the POA is the direction of each module.\n",
    "\n"
   ]
  },
  {
   "cell_type": "markdown",
   "metadata": {},
   "source": [
    "**Q 4.1 (1 P):** Which three radiation components contribute to the POA irradinace?"
   ]
  },
  {
   "cell_type": "markdown",
   "metadata": {},
   "source": [
    "**Answer:** ..."
   ]
  },
  {
   "cell_type": "markdown",
   "metadata": {},
   "source": [
    "The function [**pvlib.irradiance.get_total_irradiance()**](https://pvlib-python.readthedocs.io/en/stable/reference/generated/pvlib.irradiance.get_total_irradiance.html) does the main job to get the irradiance at the surface of the PV modules in a PV array, i.e. on the POA. The function transforms and projects the radiation components (`dni, ghi, dhi`) for a given solar position (`solar_zenith, solar_azimuth`) onto the POA with its specific surface orientation expressed with `surface_tilt`, `surface_azimuth`. The module orientation is fixed, but solar position as well as radiation components are time series varying with time of day, season and even weather conditions. The latter can be modeled by using radiation data of the \"typical meteorological year\" (`TMY`) instead of the clear sky radiation. "
   ]
  },
  {
   "cell_type": "markdown",
   "metadata": {},
   "source": [
    "\n",
    "**Q 4.2 (1 P):** The pylib documentation shows an example how to perform the transformation from GHI to the POA irradiance. \n",
    "<br>**Study and reuse the code** [**GHI to POA Transposition**](https://pvlib-python.readthedocs.io/en/stable/gallery/irradiance-transposition/plot_ghi_transposition.html). \n",
    "\n",
    "This code follows an object oriented approach in which the variable `site` is a `Location` object **([pvlib.location.Location](https://pvlib-python.readthedocs.io/en/v0.9.0/generated/pvlib.location.Location.html))**. Have a look at the [**function's source code**](https://pvlib-python.readthedocs.io/en/stable/_modules/pvlib/location.html).\n",
    "\n",
    "\n",
    "The Location object `site` provides the functions to get the clear sky irradiance components as well as the solar position: \n",
    "```\n",
    "clearsky       = site_location.get_clearsky(times)\n",
    "solar_position = site_location.get_solarposition(times=times)\n",
    "```\n",
    "\n",
    "These two time series then enter the function `pvlib.irradiance.get_total_irradiance()` which does the transformation onto the POA.\n",
    "\n",
    "In the given **GHI to POA Transposition** example linked to above, the POA irradiance and the GHI are almost equal during summer solstice. So why are PV modules on flat roofs in most cases installed with a tilt angle, if POA and GHI are almost equal during summer? \n"
   ]
  },
  {
   "cell_type": "markdown",
   "metadata": {},
   "source": [
    "**Answer:** ..."
   ]
  },
  {
   "cell_type": "markdown",
   "metadata": {},
   "source": [
    "### Background Information\n",
    "#### Time Zones\n",
    "* Time zone list: https://en.wikipedia.org/wiki/List_of_tz_database_time_zones\n",
    "* PVLIB doc on time and time zones: https://pvlib-python.readthedocs.io/en/v0.4.3/timetimezones.html"
   ]
  },
  {
   "cell_type": "markdown",
   "metadata": {},
   "source": [
    "#### Location Class, Location Object\n",
    "* Documentation: https://pvlib-python.readthedocs.io/en/v0.9.0/generated/pvlib.location.Location.html\n",
    "* **Source code** of Location class: https://pvlib-python.readthedocs.io/en/stable/_modules/pvlib/location.html"
   ]
  },
  {
   "cell_type": "code",
   "execution_count": 3,
   "metadata": {},
   "outputs": [],
   "source": [
    "# get online help\n",
    "# ? pvlib.location.Location"
   ]
  },
  {
   "cell_type": "markdown",
   "metadata": {},
   "source": [
    "**Q 4.3 (1 P):** Create a **Location object** for the GFL location. Find latitude and longitude the the GFL. Store the location object in the **dictionary** named `sites`. Use the **name as key.** Find the right **time zone name** from the Wikipedia link above!"
   ]
  },
  {
   "cell_type": "code",
   "execution_count": 4,
   "metadata": {},
   "outputs": [],
   "source": [
    "# code\n",
    "\n",
    "# name = \"GFL\"\n",
    "# tz  = ...\n",
    "# lat = ...\n",
    "# lon = ...\n",
    "# alt = 20.0\n",
    "\n",
    "# later a Location object is needed to call the function get_solarposition()\n",
    "# site = pvlib.location.Location(lat, ..., ..., ..., name)\n",
    "\n",
    "# sites = {...}\n",
    "\n",
    "# print(sites[\"GFL\"])"
   ]
  },
  {
   "cell_type": "code",
   "execution_count": 5,
   "metadata": {},
   "outputs": [],
   "source": []
  },
  {
   "cell_type": "markdown",
   "metadata": {},
   "source": [
    "**Q 4.4 (1 P):** Calculate the **POA irradiance** for modules **in the garden of the Green Fab Lab Kamp-Lintfort** for the year 2020! Modify the above mentioned example code. \n",
    "\n",
    "* For simplicity use the **clear sky** irradiance model (as in the example).\n",
    "* Use **three dates: winter solstice, spring equinoxe, and summer solstice.** \n",
    "* The modules are oriented exactly to the **southwest (SW)** (and not to the south (180°)).\n",
    "* Do the analysis for **two different tilt angles: 30° and 60°.**<br>(A module lying flat on the ground has a tilt angle of 0°)\n",
    "* Plot all six cases in **six subplots arranged in three rows and two columns (3x2)**. \n",
    "\n",
    "The columns contain the simulations for 30° and 60° tilt angle, respectively. First, second and third row show the results for winter solstice, spring equinoxe and summer solstice, respectively. **Use the same axes scaling for all six plots.**\n",
    "\n",
    "The figure below shows an **example for 2x2 subplots with shared axes:**\n",
    "\n",
    "<img src=\"./images/subplots_shared_axes.png\" width=600 />\n",
    "\n",
    "You can learn more about subplots with the Jupyter notebook `subplots_demo.ipynb`. You find it online as part of the official matplotlib documentation (demo section) and a slightly modified local copy in the folder of this notebook. "
   ]
  },
  {
   "cell_type": "markdown",
   "metadata": {},
   "source": [
    "\n",
    "\n",
    "**Your final result should look similar (not necessarily identical) to the following solution:**\n",
    "\n",
    "<img src=\"./images/GFL_CS_GHI_POA.png\" width=900 />\n"
   ]
  },
  {
   "cell_type": "code",
   "execution_count": 11,
   "metadata": {},
   "outputs": [],
   "source": [
    "# HELPER FUNCTION!\n",
    "# Calculate clear-sky GHI and transpose to plane of array\n",
    "# Define a function so that we can re-use the sequence of operations with\n",
    "# different locations\n",
    "\n",
    "#from pvlib import location\n",
    "#from pvlib import irradiance\n",
    "\n",
    "def get_irradiance(site_location, date, tilt, surface_azimuth):\n",
    "    # Creates one day's worth of 10 min intervals\n",
    "    times = pd.date_range(date, freq='10min', periods=6*24,\n",
    "                          tz=site_location.tz)\n",
    "    # Generate clearsky data using the Ineichen model, which is the default\n",
    "    # The get_clearsky method returns a dataframe with values for GHI, DNI,\n",
    "    # and DHI\n",
    "    clearsky = site_location.get_clearsky(times)\n",
    "    # Get solar azimuth and zenith to pass to the transposition function\n",
    "    solar_position = site_location.get_solarposition(times=times)\n",
    "    # Use the get_total_irradiance function to transpose the GHI to POA\n",
    "    POA_irradiance = pvlib.irradiance.get_total_irradiance(\n",
    "        surface_tilt=tilt,\n",
    "        surface_azimuth=surface_azimuth,\n",
    "        dni=clearsky['dni'],\n",
    "        ghi=clearsky['ghi'],\n",
    "        dhi=clearsky['dhi'],\n",
    "        solar_zenith=solar_position['apparent_zenith'],\n",
    "        solar_azimuth=solar_position['azimuth'])\n",
    "    \n",
    "    # Return DataFrame with only GHI and POA\n",
    "    return pd.DataFrame({'GHI': clearsky['ghi'],\n",
    "                         'POA': POA_irradiance['poa_global']})"
   ]
  },
  {
   "cell_type": "code",
   "execution_count": 16,
   "metadata": {
    "jp-MarkdownHeadingCollapsed": true,
    "tags": []
   },
   "outputs": [],
   "source": [
    "# Code:\n",
    "\n",
    "tilt1 = 30\n",
    "tilt2 = 60\n",
    "\n",
    "surface_azimuth1 = 225\n",
    "surface_azimuth2 = 225\n",
    "\n",
    "winter = \"2019-12-21\"\n",
    "spring = \"2019-03-21\"\n",
    "summer = \"2019-06-21\"\n",
    "\n",
    "winter_irradiance_1 = get_irradiance(site, winter, tilt1, surface_azimuth1)\n",
    "winter_irradiance_2 = get_irradiance(site, winter, tilt2, surface_azimuth2)\n",
    "\n",
    "# Go on ...\n",
    "# spring_irradiance_1 ...\n",
    "# spring_irradiance_2 ...\n",
    "\n",
    "# summer_ ...\n",
    "# summer_ ...\n",
    "\n",
    "\n",
    "\n",
    "# Convert Dataframe Indexes to Hour:Minute format to make plotting easier\n",
    "summer_irradiance_1.index = summer_irradiance_1.index.strftime(\"%H:%M\")\n",
    "winter_irradiance_1.index = winter_irradiance_1.index.strftime(\"%H:%M\")\n",
    "\n",
    "\n",
    "fig = plt.figure(figsize=(9,9), dpi=136)\n",
    "gs = fig.add_gridspec(3, 2, hspace=0.0, wspace=0.0)\n",
    "\n",
    "# two kinds of axis references\n",
    "axs = (ax1, ax2), (ax3, ax4), (ax5, ax6) =  gs.subplots(sharex='col', sharey='row')\n",
    "\n",
    "summer_irradiance_1['GHI'].plot(ax=ax1, label='GHI')\n",
    "summer_irradiance_1['POA'].plot(ax=ax1, label='POA')\n",
    "# ...\n",
    "# ...\n",
    "ax1.set_ylabel('Summer Irradiance ($\\mathrm{W/m^2}$)')\n",
    "\n",
    "\n",
    "# ...\n",
    "# ...\n",
    "# ...\n",
    "# ...\n",
    "ax3.set_ylabel('Spring Irradiance ($\\mathrm{W/m^2}$)')\n",
    "\n",
    "# ...\n",
    "# ...\n",
    "# ...\n",
    "# ...\n",
    "ax5.set_ylabel('Winter Irradiance ($\\mathrm{W/m^2}$)')\n",
    "\n",
    "\n",
    "for row in axs:\n",
    "    for ax in row:\n",
    "        ax.set_ylim(-100,1100)\n",
    "        # ...\n",
    "        # ...\n",
    "\n",
    "# fig.suptitle('...', y=0.95)\n",
    "\n",
    "ax1.set_title(f\"Azimuth={surface_azimuth1:d}°, Tilt={tilt1:d}°\", fontsize=\"medium\")\n",
    "# ...\n",
    "\n",
    "# ...\n",
    "ax6.set_xlabel('Time of Day')\n",
    "\n",
    "# row indexes to be used as labels\n",
    "xtick_idx = np.arange(0,144,12)\n",
    "xtick_labels = winter_irradiance_1.index[xtick_idx]\n",
    "\n",
    "ax5.set_xticks(xtick_idx, xtick_labels, rotation='vertical')\n",
    "# ...\n",
    "\n",
    "# y-ticks and labels\n",
    "ytick_vals = np.arange(0,1001,100)\n",
    "ytick_labels = ytick_vals\n",
    "# ...\n",
    "ax3.set_yticks(ytick_vals, ytick_labels)\n",
    "# ...\n",
    "\n",
    "plt.show()\n"
   ]
  },
  {
   "cell_type": "markdown",
   "metadata": {},
   "source": [
    "**Q 4.5 (1 P):** The **daily GHI curves (blue) appear symmetrical**; that is, if you flip them around a vertical axis at the center of the curve, they look the same. In contrast, **the POA curves (orange) display kinks and dents** at early hours, and the timestamps of their maxima do not coincide with those of the GHI maxima. **Why are the POA curves asymmetric?**"
   ]
  },
  {
   "cell_type": "markdown",
   "metadata": {},
   "source": [
    "**Answer:** ..."
   ]
  },
  {
   "cell_type": "markdown",
   "metadata": {
    "tags": []
   },
   "source": [
    "**Q 4.6 (1 P):** Calculate the **daily insolations** for all six POA irradiances in **kWh/m²/day**."
   ]
  },
  {
   "cell_type": "code",
   "execution_count": 8,
   "metadata": {
    "jp-MarkdownHeadingCollapsed": true
   },
   "outputs": [],
   "source": [
    "# Code:\n"
   ]
  }
 ],
 "metadata": {
  "kernelspec": {
   "display_name": "Python 3 (ipykernel)",
   "language": "python",
   "name": "python3"
  },
  "language_info": {
   "codemirror_mode": {
    "name": "ipython",
    "version": 3
   },
   "file_extension": ".py",
   "mimetype": "text/x-python",
   "name": "python",
   "nbconvert_exporter": "python",
   "pygments_lexer": "ipython3",
   "version": "3.11.6"
  }
 },
 "nbformat": 4,
 "nbformat_minor": 4
}
