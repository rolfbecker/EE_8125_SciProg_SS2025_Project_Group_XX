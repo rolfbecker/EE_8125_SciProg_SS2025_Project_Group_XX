{
 "cells": [
  {
   "cell_type": "markdown",
   "id": "eaec16fa-65c6-4143-a74d-6b114486784c",
   "metadata": {},
   "source": [
    "<font size=6em color=\"red\">Student Group Description</font>\n",
    "\n",
    "Update the table below with your data.\n",
    "\n",
    "| Matriculation Number | Name | Contribution in this notebook |\n",
    "| :--- | :--- | :--- |\n",
    "| 99999 | Alice Wonderland | Example: 50% of all |\n",
    "| 99998 | John Doe | Example: 50% of Task 3.2  |\n"
   ]
  },
  {
   "cell_type": "markdown",
   "id": "92419963-c617-4b8f-8abb-12734ef379ab",
   "metadata": {},
   "source": [
    "# Task 3: Your Own Exercise\n",
    "\n",
    "(10 Points)\n",
    "\n",
    "Do something exciting!"
   ]
  },
  {
   "cell_type": "code",
   "execution_count": null,
   "id": "74cdb27f-732f-4cd7-bd17-207a28183537",
   "metadata": {},
   "outputs": [],
   "source": []
  }
 ],
 "metadata": {
  "kernelspec": {
   "display_name": "Python 3 (ipykernel)",
   "language": "python",
   "name": "python3"
  },
  "language_info": {
   "codemirror_mode": {
    "name": "ipython",
    "version": 3
   },
   "file_extension": ".py",
   "mimetype": "text/x-python",
   "name": "python",
   "nbconvert_exporter": "python",
   "pygments_lexer": "ipython3",
   "version": "3.11.6"
  }
 },
 "nbformat": 4,
 "nbformat_minor": 5
}
