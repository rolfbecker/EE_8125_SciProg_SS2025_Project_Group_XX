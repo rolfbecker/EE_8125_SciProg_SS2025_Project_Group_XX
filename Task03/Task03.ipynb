{
 "cells": [
  {
   "cell_type": "markdown",
   "id": "07a97748-38e5-42fe-af06-4aa2426c5ec6",
   "metadata": {},
   "source": [
    "<font size=6em color=\"red\">Student Group Description</font>\n",
    "\n",
    "Update the table below with your data.\n",
    "\n",
    "| Matriculation Number | Name | Contribution in this notebook |\n",
    "| :--- | :--- | :--- |\n",
    "| 99999 | Alice Wonderland | Example: 50% of all |\n",
    "| 99998 | John Doe | Example: 50% of Task 3.2  |"
   ]
  },
  {
   "cell_type": "markdown",
   "id": "036e6ced-9b35-4b8f-9df4-8e0e7418a33b",
   "metadata": {},
   "source": [
    "# Task 3: Your Own Exercise - Exciting Environmental Data Challenge!\n",
    "\n",
    "(10 Points)\n",
    "\n",
    "Do something excited with environmental data! \n",
    "\n",
    "If you use a large language model (LLM) for any part of the task (it is allowed!), please specify which LLM you used and provide the prompt you gave it.\n",
    "\n",
    "Document your process, including short(!) motivation, data sources, and code.\n",
    "\n",
    "Be creative - show how environmental data can lead to meaningful discoveries or striking visualizations!\n",
    "\n",
    "A few **inspirations**:\n",
    "\n",
    "* Plot and discuss hourly precipitation time series of a few DWD stations: <br> https://opendata.dwd.de/climate_environment/CDC/observations_germany/climate/hourly/precipitation/historical/\n",
    "* Plot and discuss groundwater level time series of a few wells for the last 10 years from opendata nrw: <br> https://www.opengeodata.nrw.de/produkte/umwelt_klima/wasser/grundwasser/hygrisc/\n",
    "* Try to find data on earthquakes or volcanoes.\n",
    "* Try to find data on the migration of wolves in Germany. Create maps for different years.\n",
    "* ANYTHING ELSE RELATED TO ENVIRONMENTAL DATA.\n"
   ]
  },
  {
   "cell_type": "code",
   "execution_count": null,
   "id": "113534f9-62f4-4450-b5c1-1818f399d7de",
   "metadata": {},
   "outputs": [],
   "source": []
  }
 ],
 "metadata": {
  "kernelspec": {
   "display_name": "Python 3 (ipykernel)",
   "language": "python",
   "name": "python3"
  },
  "language_info": {
   "codemirror_mode": {
    "name": "ipython",
    "version": 3
   },
   "file_extension": ".py",
   "mimetype": "text/x-python",
   "name": "python",
   "nbconvert_exporter": "python",
   "pygments_lexer": "ipython3",
   "version": "3.11.6"
  }
 },
 "nbformat": 4,
 "nbformat_minor": 5
}
