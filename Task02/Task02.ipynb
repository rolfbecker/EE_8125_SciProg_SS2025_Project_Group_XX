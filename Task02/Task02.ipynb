{
 "cells": [
  {
   "cell_type": "markdown",
   "id": "78ae061d-1e7d-496c-bfb6-0433d73c07fe",
   "metadata": {},
   "source": [
    "<font size=6em color=\"red\">Student Group Description</font>\n",
    "\n",
    "Update the table below with your data.\n",
    "\n",
    "| Matriculation Number | Name | Contribution in this notebook |\n",
    "| :--- | :--- | :--- |\n",
    "| 99999 | Alice Wonderland | Example: 50% of all |\n",
    "| 99998 | John Doe | Example: 50% of Task 3.2  |\n"
   ]
  },
  {
   "cell_type": "markdown",
   "id": "49fe1079-7c3c-452a-a1a9-dae200e06dc1",
   "metadata": {},
   "source": [
    "# Task02: Compare Irradiance Data of Different Sources\n",
    "\n",
    "Compare different global radiation data sources for the Green Fab Lab location and your individual three days period in the year 2022.\n",
    "\n",
    "You will work with 4 data sources:\n",
    "\n",
    "1. The global radiation (global horizontal irradiance, GHI) measurements at our **[HSRW weather station](https://wiki.eolab.de/doku.php?id=eolab:weather_station:kamp-lintfort:start)**,\n",
    "2. **[GHI measurements of the DWD](https://opendata.dwd.de/climate_environment/CDC/observations_germany/climate/10_minutes/solar/)** for one of three stations nearest to Kamp-Lintfort,\n",
    "3. **Typical Meteorological Year (TMY)** data from the **[Photovoltaic Geographical Information System (PVGIS)](https://re.jrc.ec.europa.eu/pvg_tools/en/)** of the European Commission.\n",
    "4. GHI under clear sky conditions generated with  **[pvlib](https://pvlib-python.readthedocs.io/en/v0.11.0/index.html)**.  \n"
   ]
  },
  {
   "cell_type": "markdown",
   "id": "975bc3a3-32e7-4417-a4ae-d371482fa2e0",
   "metadata": {},
   "source": [
    "## Imports"
   ]
  },
  {
   "cell_type": "code",
   "execution_count": null,
   "id": "4145d9a8-e591-4428-a5e7-4835e460e733",
   "metadata": {},
   "outputs": [],
   "source": [
    "import DWD_helpers as dwd\n",
    "import my_helpers as my\n",
    "import pvlib\n",
    "\n",
    "import matplotlib.pyplot as plt\n",
    "import pandas as pd"
   ]
  },
  {
   "cell_type": "code",
   "execution_count": null,
   "id": "0ffcdf62-6321-4e73-8f45-4ac76a4be5e7",
   "metadata": {},
   "outputs": [],
   "source": [
    "# Just a demo on time zones and day saving times (DST). \n",
    "# Time zone \"CET\" = \"Europe/Berlin\"\n",
    "# In winter: CET = UTC+0100\n",
    "# In summer: CET = UTC+0200\n",
    "print(\"WINTER TIME\")\n",
    "display(pd.Timestamp(\"2022-03-01\").tz_localize(\"CET\")) # Central European Time\n",
    "display(pd.Timestamp(\"2022-03-01\").tz_localize(\"Europe/Berlin\")) # Central European Time\n",
    "print(\"SUMMER TIME\")\n",
    "display(pd.Timestamp(\"2022-07-01\").tz_localize(\"CET\")) # Central European Summer Time \n",
    "display(pd.Timestamp(\"2022-07-01\").tz_localize(\"Europe/Berlin\")) # Central European Summer Time "
   ]
  },
  {
   "cell_type": "markdown",
   "id": "773acc3d-0737-4cff-a3d3-a98374118eba",
   "metadata": {},
   "source": [
    "## 1. Generate Your Individual Date Range for the Data Analysis "
   ]
  },
  {
   "cell_type": "markdown",
   "id": "cae04f58-d2d2-4b1c-9011-22081b5e80cd",
   "metadata": {},
   "source": [
    "The execution of `start_date = my.matnos_to_date(matno1, matno2, seed)` further below yields a random timestamp, which is the start date for your analysis. The end date is three days later. The function considers two matriculation numbers and a so-called `seed`, which can be changed to generate another date from the matriculation numbers should it be necessary. \n",
    "\n",
    "In case only a single student is working on the problem just set `matno1` to your matriculation number. Set the second to `matno2=99999`. \n",
    "\n",
    "Example:<br>\n",
    "Input:\n",
    "```\n",
    "start_date = my.matnos_to_date(matno1=54321, matno2=99999, seed=0)[0]\n",
    "```\n",
    "Output:\n",
    "```\n",
    "start_date = Timestamp('2022-03-10 00:00:00+0100', tz='CET')\n",
    "end_date   = Timestamp('2022-03-13 00:00:00+0100', tz='CET')\n",
    "```\n",
    "\n",
    "It may be that for your combination of `matno1, matno2, seed=0` leads to a date for which the data at the HSRW weather station is missing. Just change the seed to another integer until you get a date for which HSRW weather station data is available, e.g. `matno1, matno2, seed=5`.\n",
    "\n",
    "If you found an appropriate date range keep the seed fixed!\n",
    "\n",
    "We provide a dynamic URL to the Grafana dashboard of the HSRW weather station with a query string that contains your current date range. This helps you to check if you have continous data during the three consecutive days. **If not, change the seed and check again!** "
   ]
  },
  {
   "cell_type": "code",
   "execution_count": null,
   "id": "a638413b-d6b3-41c3-90ca-56e16c21f014",
   "metadata": {},
   "outputs": [],
   "source": [
    "help(my.matnos_to_date)"
   ]
  },
  {
   "cell_type": "markdown",
   "id": "864975d4-ae9e-457a-84ee-540558b9c396",
   "metadata": {},
   "source": [
    "**Fill in your real matriculation numbers.**"
   ]
  },
  {
   "cell_type": "code",
   "execution_count": null,
   "id": "b3b14712-4717-4095-aa9d-0b4e63b530c7",
   "metadata": {},
   "outputs": [],
   "source": [
    "matno1=54321 # Replace with your matriculation number (matno)\n",
    "matno2=99999 # Replace with the second student's matno. Set it to 99999 if you work alone."
   ]
  },
  {
   "cell_type": "markdown",
   "id": "5f9ff7bb-85c4-432b-9323-6f14d22400c7",
   "metadata": {},
   "source": [
    "Start with `seed=0`, **Change the seed in case you get an inappropriate date range with missing data.** The `seed` will change the generated analysis date range randomly."
   ]
  },
  {
   "cell_type": "code",
   "execution_count": null,
   "id": "2aa7738d-bd16-4698-9681-8032f37452fa",
   "metadata": {},
   "outputs": [],
   "source": [
    "seed=0"
   ]
  },
  {
   "cell_type": "code",
   "execution_count": null,
   "id": "4938bd84-9b83-4126-928a-f5d0b47d3b96",
   "metadata": {},
   "outputs": [],
   "source": [
    "# The date range generator\n",
    "start_date = my.matnos_to_date(matno1, matno2, seed)[0]\n",
    "end_date = start_date + pd.Timedelta(days=3)\n",
    "\n",
    "print(\"Your individual date interval for the data analysis:\")\n",
    "print(f\"{start_date = }\")\n",
    "print(f\"{end_date   = }\")"
   ]
  },
  {
   "cell_type": "markdown",
   "id": "be0ac985-0bbf-4cee-bca0-498d91b98adf",
   "metadata": {},
   "source": [
    "**Check your date range: Is contiguous global radiation data available?**"
   ]
  },
  {
   "cell_type": "markdown",
   "id": "24bd8cbb-7197-4c1b-8d84-80327eb733c2",
   "metadata": {},
   "source": [
    "<img src=\"./images/HSRW_Station_Data_Gaps_001.png\" width= 600 />\n",
    "\n",
    "_Fig.: Global radiation data at the HSRW weather station with data gaps. In the linear sections data is missing._"
   ]
  },
  {
   "cell_type": "markdown",
   "id": "889e8f60-213e-4cf2-b5ea-7b286f2eb763",
   "metadata": {},
   "source": [
    "The above figure shows the effects of missing data in the graphs.\n",
    "\n",
    "**Click on the link below** to check the **availaility of global radiation data** and the **absence of data gaps** at the HSRW weather station. If the data is not available or not contiguous (revealing gaps), **change the seed and repeat the procedure** until you find an appropriate time range with valid global radiation data at the HSRW weather station."
   ]
  },
  {
   "cell_type": "code",
   "execution_count": null,
   "id": "e6aa1bad-2c41-4146-b513-6c9771ced349",
   "metadata": {},
   "outputs": [],
   "source": [
    "HSRW_grafana_URL = my.gen_HSRW_weather_station_grafana_URL(start_date, end_date)\n",
    "print(\"CLICK ON THE LINK TO CHECK YOUR DATA!\")\n",
    "display(HSRW_grafana_URL)"
   ]
  },
  {
   "cell_type": "markdown",
   "id": "c2414fb6-abae-4d09-a06d-be9b6905f5b9",
   "metadata": {},
   "source": [
    "#### Q 1.1 (1P): You successfully found your individual date range for the further data analysis. "
   ]
  },
  {
   "cell_type": "markdown",
   "id": "860aa0ec-db0a-4def-92a9-68a5662cff43",
   "metadata": {},
   "source": [
    "**Answer:** (yes|no)"
   ]
  },
  {
   "cell_type": "markdown",
   "id": "674856fc-f392-4709-8b1c-6bf0ddf3236b",
   "metadata": {},
   "source": [
    "## 2. Get the GHI from the HSRW weather station\n",
    "\n",
    "We provide a so-called RESTful API, which allows you to extract data from the weather station database. [**Read here**](https://wiki.eolab.de/doku.php?id=eolab:weather_station:kamp-lintfort:start#restful_api_to_request_real-time_online_data) how to use it to request data.\n",
    "\n",
    "The following **RESTful API endpoint** (special URL) provides an example:\n",
    "<br>\n",
    "**https://weather.eolab.de/api/weather/2021-11-12T14:55:32.000+0100/2021-11-12T14:59:32.000+0100/**\n",
    "\n",
    "If you click on the link the RESTful API answers to the request with the data \n",
    "<br> between `2021-11-12T14:55:32.000+0100` and `2021-11-12T14:59:32.000+0100`.\n",
    "\n",
    "The first rows look like \n",
    "```\n",
    "[{\"wind_speed\":\"0.56\",\"wind_direction\":\"188.00\",\"air_temperature\":\"8.91\",\"air_relhumidity\":\"73.59\",\"smp10\":\"108\",\"pqsl\":\"193.76\",\"soil_moisture\":\"23.90\",\"soil_tempblue\":\"10.86\",\"soil_tempred\":\"7.90\",\"air_pressure\":\"1011.24\",\"precipitation\":\"0.0\",\"created_at\":\"2021-11-12T13:59:27.000Z\",\"created_at_tz\":\"2021-11-12T13:59:28.658Z\"},{\"wind_speed\":\"1.09\",\"wind_direction\":\"188.00\",\"air_temperature\":\"8.91\",\"air_relhumidity\":\"73.58\",\"smp10\":\"108\",\"pqsl\":\"193.92\",\"soil_moisture\":\"23.90\",\"soil_tempblue\":\"10.86\",\"soil_tempred\":\"7.90\",\"air_pressure\":\"1011.24\",\"precipitation\":\"0.0\",\"created_at\":\"2021-11-12T13:59:16.000Z\",\"created_at_tz\":\"2021-11-12T13:59:17.880Z\"},{\"wind_speed\":\"1.59\",\"wind_direction\":\"140.00\",\"air_temperature\":\"8.91\",\"air_relhumidity\":\"73.55\",\"smp10\":\"108\",\"pqsl\":\"193.76\",\"soil_moisture\":\"23.90\",\"soil_tempblue\":\"10.86\",\"soil_tempred\":\"7.90\",\"air_pressure\":\"1011.24\",\"precipitation\":\"0.0\",\"created_at\":\"2021-11-12T13:59:06.000Z\",\"created_at_tz\":\"2021-11-12T13:59:07.266Z\"}]]\n",
    "```\n",
    "\n",
    "This is a **list of dictionaries** (aka JSON format). Each dictionary contains a complete dataset of measurement data of all available sensors at one particular timestamp `\"created_at\"`.\n",
    "\n",
    "The first dataset is:\n",
    "```\n",
    "{\n",
    "    \"wind_speed\":\"0.56\",\n",
    "    \"wind_direction\":\"188.00\",\n",
    "    \"air_temperature\":\"8.91\",\n",
    "    \"air_relhumidity\":\"73.59\",\n",
    "    \"smp10\":\"108\",\n",
    "    \"pqsl\":\"193.76\",\n",
    "    \"soil_moisture\":\"23.90\",\n",
    "    \"soil_tempblue\":\"10.86\",\n",
    "    \"soil_tempred\":\"7.90\",\n",
    "    \"air_pressure\":\"1011.24\"\n",
    "    ,\"precipitation\":\"0.0\",\n",
    "    \"created_at\":\"2021-11-12T13:59:27.000Z\",\n",
    "    \"created_at_tz\":\"2021-11-12T13:59:28.658Z\"\n",
    "}\n",
    "\n",
    "```\n",
    "**The column `smp10` contains the GHI data in W/m²!**\n",
    "\n"
   ]
  },
  {
   "cell_type": "markdown",
   "id": "8d70b1cf-a93d-475a-9e28-4b316e8487cb",
   "metadata": {},
   "source": [
    "#### Q 2.1 (2P): Create the **right API endpoint (URL)** for your own analysis date range, **download** the data, read it into a **dataframe** and **plot** it. \n",
    "\n",
    "Start with the RESTful API endpoint example above, i.e.\n",
    "<br>`https://weather.eolab.de/api/weather/2021-11-12T14:55:32.000+0100/2021-11-12T14:59:32.000+0100/`\n",
    "<br>and replace the dates with your start and end dates. \n",
    "You can either write the URL directly down (name it `HSRW_WS_URL`) or you can generate it automatically by string concatenation. \n",
    "<br>\n",
    "Hint: The `pandas.Timestamp` class has a function which prints out the timestamp in ISO8601 format. This can be directly used in the RESTful API endpoint."
   ]
  },
  {
   "cell_type": "code",
   "execution_count": null,
   "id": "29a5057f-dec0-4dd9-be75-b3d13ef383ce",
   "metadata": {},
   "outputs": [],
   "source": [
    "# Your code:\n",
    "\n",
    "# HSRW_URL = \"https://...\" + \"...\" + \"/\" + \"...\" + \"/\"\n",
    "# display(HSRW_URL)\n",
    "\n"
   ]
  },
  {
   "cell_type": "markdown",
   "id": "16d316a9-b69d-468c-9028-dd88e43b5951",
   "metadata": {},
   "source": [
    "**Download the data:** Either you use the text output (in JSON format) shown on your **browser** and press `<ctrl>-s` to save the data **or use the `requests` module** to achieve this. Save the data under `./data/download.json`."
   ]
  },
  {
   "cell_type": "markdown",
   "id": "d8ebdce7-aca4-4f2c-bbf8-54cfe5bef224",
   "metadata": {},
   "source": [
    "**Read the data into a dataframe.** \n",
    "<br>The JSON data can be read to a pandas dataframe easily: "
   ]
  },
  {
   "cell_type": "code",
   "execution_count": null,
   "id": "669639eb-d866-407c-bcf7-78bbc78278e4",
   "metadata": {},
   "outputs": [],
   "source": [
    "# Your code:\n",
    "\n",
    "# HSRW_df = pd...\n",
    "# HSRW_df.head(3)\n",
    "\n"
   ]
  },
  {
   "cell_type": "markdown",
   "id": "ee5fba71-7581-4216-b337-e5d3ab3a7910",
   "metadata": {},
   "source": [
    "Make the column `created_at` the dataframe's index permanently. Plot the GHI series of the dataframe.  "
   ]
  },
  {
   "cell_type": "code",
   "execution_count": null,
   "id": "7d8b26bc-2e44-406f-a186-da511c457c22",
   "metadata": {},
   "outputs": [],
   "source": [
    "# You code:\n",
    "\n",
    "# ...\n",
    "# HSRW_df[...].plot()\n",
    "\n"
   ]
  },
  {
   "cell_type": "markdown",
   "id": "5aded7f2-0647-419e-8fbf-6370db9fd6b9",
   "metadata": {},
   "source": [
    "## 3. Get the GHI from the DWD"
   ]
  },
  {
   "cell_type": "markdown",
   "id": "f4e3397e-c96d-4b59-8702-3d1f02fc10f4",
   "metadata": {},
   "source": [
    "<img src=\"./images/DWD_Stations_Global_Radiation.png\" width = 800/>\n",
    "\n",
    "_Fig.: Map of the DWD stations around Kamp-Lintfort set as \"active\" in measuring \"sun related variables\" with 10 mins resolution._"
   ]
  },
  {
   "cell_type": "markdown",
   "id": "4ef5a67a-45fc-411a-b5d6-89af762ae0ef",
   "metadata": {},
   "source": [
    "The above map was created with data from the station description file **[10_minutes/solar/historical/zehn_min_sd_Beschreibung_Stationen.txt](https://opendata.dwd.de/climate_environment/CDC/observations_germany/climate/10_minutes/solar/historical/zehn_min_sd_Beschreibung_Stationen.txt)**. \n",
    "\n",
    "The stations on the map were not additionally filtered. It would have made sense to consider only active stations, i.e. which have a `bis_datum` column showing a recent date close to now(). Many of the stations shown do not provide data we are currently interested in, anymore.  \n",
    "\n",
    "Read **[DESCRIPTION_obsgermany_climate_10min_solar_en.pdf](https://opendata.dwd.de/climate_environment/CDC/observations_germany/climate/10_minutes/solar/DESCRIPTION_obsgermany_climate_10min_solar_en.pdf)** to understand the data structure of the actual measurement data.\n",
    "\n",
    "A **nasty complication** is that different data sources based on different measuring instruments are mixed on the data files. The pdf above states:\n",
    "\n",
    "| Column  | Physical Quantity  | Missing Value  | Unit  | Type  |\n",
    "| --- | --- | --- | --- | --- |\n",
    "| GS_10 | sum of global radiation during the previous 10 minutes | -999 | J/cm² |NUMBER |\n",
    "| SD_10  | sum of sunshine duration during the previous 10 minutes | -999 | h | NUMBER | S\n",
    "\n",
    "Measuring \"sunshine duration\" (What is it? How do you define it?) requires a different instrument than measuring \"global radiation\". The latter requires a pyranometer. \n",
    "\n",
    "Stations are claimed to be active if any(!) measurement is provided. Most stations just measure `SD_10` and do not have any measurung instrument for `GS_10`. Still they are marked as active.\n",
    "\n",
    "This means we have to open every data file we are interested in and check mannually if `GS_10` measurements are provided or not."
   ]
  },
  {
   "cell_type": "markdown",
   "id": "d09b646a-1361-47cc-b222-597d868df9a5",
   "metadata": {},
   "source": [
    "#### Q 3.1 (1P): Identify the three DWD stations closest to Kamp-Lintfort. Download and check the radiation data. Plot it. \n",
    "\n",
    "From the map above identify the **three DWD stations closest to Kamp-Lintfort**.  What are their names and station IDs? Complete the markdown table below.\n",
    "\n",
    "Use the following data collection: 10 minutes resolution, solar/sun data, historical data including year 2022.\n",
    "Download the 2022 data for the three nearest stations from [**here**](https://opendata.dwd.de/climate_environment/CDC/observations_germany/climate/10_minutes/solar/historical/) and **check if global radiation data (column `GS_10`) is available**, i.e. not all data are NaN (-999). (`GS_10`: Globalstrahlung (10 mins resolution), global radiation, global horizontal irradiance, GHI).\n",
    "\n",
    "Fill out the following table with the three nearest stations. The third column can only be filled after you have checked the actual measurement data in the downloaded files.\n",
    "\n",
    "| No. | Station ID  | Station Name | Provides GS_10 data in 2022 |\n",
    "| --- |  --- |  --- |  --- |\n",
    "| 0 |  99999 |  Dummy |  no | \n",
    "| 1 | ... | ... | ... |\n",
    "| 2 | ... | ... | ... |\n",
    "| 3 | ... | ... | ... |\n",
    "\n",
    "Download the measurement data of the three closest stations and store the zips under the folder `./data/`. Unzip the zip archives in individual destination folders."
   ]
  },
  {
   "cell_type": "markdown",
   "id": "e614affe-35e9-45eb-8627-13f1470f31c6",
   "metadata": {},
   "source": [
    "There is **only one station** in the vicinity of Kamp-Lintfort which provides the GHI data (aka \"global radiation\", \"Globalstrahlung\", \"GS_10\") in 2022. **Read the data into a dataframe and plot!** Hint: Investigate [**DWD_helpers.py**](DWD_helpers.py). There is a function which may help you.\n",
    "\n",
    "Set the **x-axis limits** to your **personal analysis time range**. The the **ylabel** to \"GHI\" and add text with the **unit** of the data.  "
   ]
  },
  {
   "cell_type": "code",
   "execution_count": null,
   "id": "350abc5b-eca6-4195-ba8e-85a79ee609ca",
   "metadata": {},
   "outputs": [],
   "source": [
    "# Your code: \n",
    "\n",
    "# Solar radiation data read from DWD\n",
    "# DWD_solrad = dwd...\n",
    "# fig, ax = plt.subplots()\n",
    "# DWD_solrad.df[...].plot(ax=ax)\n",
    "# ax.set_xlim...\n",
    "# ax.set_ylabel(\"GHI in ...\")\n",
    "\n"
   ]
  },
  {
   "cell_type": "code",
   "execution_count": null,
   "id": "8b90980e-ca40-42f6-bf0a-bc0c2b592a07",
   "metadata": {},
   "outputs": [],
   "source": []
  },
  {
   "cell_type": "markdown",
   "id": "09c68fff-8ea6-4dd1-b125-308511f85095",
   "metadata": {},
   "source": [
    "#### Q 3.2 (2P): Convert the irradiance units and plot.\n",
    "\n",
    "If you just plot the GHI data from DWD and HSRW in one diagram you will notice that the **curves do not match.** You have to **convert the units of the DWD irradiance**. \n",
    "<br>\n",
    "The DWD irradiance is given in $\\mathrm{J/cm^2}$ accumulated over 10 minutes. Convert it to $\\mathrm{W/m^2}$. \n",
    "<br>\n",
    "Plot the corrected curves in one axis. Now they should be very similar."
   ]
  },
  {
   "cell_type": "code",
   "execution_count": null,
   "id": "62e54f61-82b8-4c9b-b42c-91ce1106b625",
   "metadata": {},
   "outputs": [],
   "source": [
    "# Your code:\n",
    "\n",
    "# fig, ax = plt.subplots(figsize=(10,5))\n",
    "# HSRW_df...\n",
    "# DWD_solrad...\n",
    "# ax.set_ylabel(\"GHI in W/m²\")\n",
    "# ax.legend([\"HSRW\", \"DWD\"])\n",
    "\n"
   ]
  },
  {
   "cell_type": "markdown",
   "id": "fbcfbd1a-6567-4be0-bd78-251d37f592cb",
   "metadata": {},
   "source": [
    "## 4. Clear Sky"
   ]
  },
  {
   "cell_type": "markdown",
   "id": "d7b9f2b5-8008-4194-ab30-0de8850ada53",
   "metadata": {},
   "source": [
    "#### Q 4.1 (2P): Use PVLIB to determine the clear sky irradiance and plot it. \n",
    "\n",
    "Use the GFL coordinates (given in coord. ref. system WGS84 (= EPSG:4326)): `GFL_loc = (lat, lon) = (51.498, 6.549)`\n",
    "for your analysis date range. Where is the GFL? ;-)"
   ]
  },
  {
   "cell_type": "code",
   "execution_count": null,
   "id": "95b95d79-f9a7-4a74-8196-ca56d29a6db8",
   "metadata": {},
   "outputs": [],
   "source": [
    "GFL_loc = (lat, lon) = (51.498, 6.549)\n",
    "print(\"Clink on the Google Maps link: \", end=\"\")\n",
    "print(f\"https://www.google.de/maps/place/{lat}+{lon}/\") # BTW: This is an API endpoint :-)"
   ]
  },
  {
   "cell_type": "markdown",
   "id": "55a9d326-cc5e-42d6-a7f3-8c2be3993220",
   "metadata": {},
   "source": [
    "Create a **pvlib location object** `site_location` first (see Task 01). Create the **date range** with `times=pd.date_range()` with 10 mins resolution for your personal analysis time range. Create the pandas dataframe `clearsky` by calling the appropriate method of the location object."
   ]
  },
  {
   "cell_type": "code",
   "execution_count": null,
   "id": "c3eceeeb-c984-4728-8ab6-6c7530f9f777",
   "metadata": {},
   "outputs": [],
   "source": [
    "# Your code:\n",
    "\n",
    "# name = \"GFL\"\n",
    "# tz = \n",
    "# lat = \n",
    "# lon = \n",
    "# alt = \n",
    "\n",
    "# The Location object is needed to call the function get_clearsky()\n",
    "# site_location = pvlib.location.Location(lat, ..., ..., ..., name)\n",
    "# times = pd.date_range(...)\n",
    "# clearsky = ...\n",
    "\n"
   ]
  },
  {
   "cell_type": "code",
   "execution_count": null,
   "id": "5cadc855-ebbe-486c-a14d-50caba1b1dc2",
   "metadata": {},
   "outputs": [],
   "source": [
    "# Your code:\n",
    "\n",
    "# fig, ax = plt.subplots(figsize=(10,5))\n",
    "# ...\n",
    "\n"
   ]
  },
  {
   "cell_type": "markdown",
   "id": "f72216cb-7007-4b3b-924c-708b56df3e62",
   "metadata": {},
   "source": [
    "## 5. Typical Meteorological Year (TMY) from the PVGIS tools\n"
   ]
  },
  {
   "cell_type": "markdown",
   "id": "7e092519-0e3e-46e3-adda-c8721d1018eb",
   "metadata": {
    "jp-MarkdownHeadingCollapsed": true
   },
   "source": [
    "\n",
    "The clear sky assumption does not take weather conditions into account. The performance estimates of PV plants based on the clear sky assumption are generally suitable for comparing different potential sites, i.e. how does the irradiance differ between Kamp-Lintfort and Almería just because of the different geography? For actual performance predictions it would be better to have real site-specific radiation data, but unfortunately the accurate measurement of the radiation components is difficult and expensive. Furthermore to get a reasonable statistical estimate, long irradiance time series would be required.\n",
    "\n",
    "#### Background Info: TMY\n",
    "\n",
    "**What is TMY?**\n",
    "<br>TMY stands for Typical Meteorological Year. It’s a **standardized dataset** that represents **typical weather conditions** for a **specific location** over a year. TMY data captures variations in meteorological parameters such as solar radiation, temperature, humidity, wind speed, and more.\n",
    "<br>**How is TMY created?**\n",
    "<br>TMY data is derived from long-term historical weather records (usually spanning 10 years or more). **For each month** of the year, data is selected **from the year that was considered most “typical” for that month**. For example, **January** might be from **2007**, **February** from **2012**, and so on. TMY datasets provide hourly values for every day of a year. \n",
    "<br>(With the help of copilot, modified)\n",
    "\n",
    "For more information on TMY see the [**European Energy Efficiency Platform (E3P)**](https://e3p.jrc.ec.europa.eu/articles/typical-meteorological-year-tmy)"
   ]
  },
  {
   "cell_type": "markdown",
   "id": "f014c2b4-4a45-41da-9141-b90b19980f26",
   "metadata": {},
   "source": [
    "#### Background Info: Radiation Databases"
   ]
  },
  {
   "cell_type": "markdown",
   "id": "966b10d7-87ef-47a9-b643-cce949991368",
   "metadata": {},
   "source": [
    "A good alternative to ground based measurements is the usage of **satellite data** to regionalize the irradiance. The ground level irradiance data cannot be observed directly from satellites but estimated by means of available satellite measurements, radiation modeling as well as ground truth (ground measurement) data for calibration.\n",
    "\n",
    "One solution (aka product) is provided by the [Satellite Application Facility on Climate Monitoring (**CM-SAF**)](https://www.cmsaf.eu/EN/Home/home_node.html). \n",
    "\n",
    "The website states: \n",
    "<br>\n",
    "\"CM-SAF develops, generates, archives and distributes high-quality satellite-derived products of the global energy & water cycle and related sustained services in support to understand our climate.\" \n",
    "<br>\n",
    "And:\n",
    "<br>\n",
    "\"The new CMSAF solar radiation product SARAH-2.1 (PVGIS-SARAH2) has been added to PVGIS with data from 2005 to 2020.\" \n",
    "<br>([PVGIS 5.2 release notes](https://joint-research-centre.ec.europa.eu/pvgis-photovoltaic-geographical-information-system/pvgis-releases/pvgis-52_en)). \n",
    "\n",
    "The **Joint Research Center (JRC)** of the European Commission (EC) provides the **[PVGIS tools](https://joint-research-centre.ec.europa.eu/pvgis-photovoltaic-geographical-information-system_en)** for PV systems design. The ground level SARAH-2 radiation data is accessible through PVGIS. \n",
    "<br>\n",
    "\n",
    "Several radiation databases are combined and used by default for different regions. \n",
    "The [PVGIS 5.2 Release Notes](https://joint-research-centre.ec.europa.eu/pvgis-photovoltaic-geographical-information-system/pvgis-releases/pvgis-52_en) states: \n",
    "<br>\"The new default radiation database is a combination of PVGIS-SARAH2 and PVGIS-SARAH (Europe, Africa, Central Asia), PVGIS-NSRDB (Americas) and PVGIS-ERA5 (Nordic countries above 60 N and the rest of the world).\"\n",
    "\n",
    "<img src=\"./images/PVGIS_Default_Solar_Radiation_Database_100ppi_1.png\" width=600 />\n",
    "\n",
    "_Fig.: Default Solar Radiation Databases in PVGIS 5.2, European Union, 2022_.\n",
    "<br>(Source: [PVGIS 5.2 Release Notes](https://joint-research-centre.ec.europa.eu/pvgis-photovoltaic-geographical-information-system/pvgis-releases/pvgis-52_en))\n",
    "\n",
    "\n",
    "PVGIS uses and provides the radiation data in different ways: \n",
    "\n",
    "1. the radiation data is directly used in the [**PVGIS interactive web dashboard**](https://re.jrc.ec.europa.eu/pvg_tools/en/).\n",
    "1. The data is provoded as a [non-inteactive service API](https://joint-research-centre.ec.europa.eu/pvgis-photovoltaic-geographical-information-system/getting-started-pvgis/api-non-interactive-service_en).\n",
    "\n",
    "The latter method uses web requests to retrieve the data from the central PVGIS radiation database.\n",
    "The PVLIB Python library uses this PVGIS Web API. The [pvlib.iotools.pvgis](https://pvlib-python.readthedocs.io/en/stable/_modules/pvlib/iotools/pvgis.html) source code shows how this is done. "
   ]
  },
  {
   "cell_type": "markdown",
   "id": "acede16b-8f5c-45a6-af05-bfc22545662a",
   "metadata": {},
   "source": [
    "**Download the TMY data from PVGIS**. \n",
    "* Go to the [**PVGIS interactive web dashboard**](https://re.jrc.ec.europa.eu/pvg_tools/en/)\n",
    "* Below the map on the left side **fill in lat/lon** of the GFL and click the `GO!`button\n",
    "* Now the tabbed pages on the right side are activated. Select the tab `TMY`.\n",
    "* Select the data from `PVGIS-SARAH2` (2005-2020).\n",
    "* Download as `CSV`.\n",
    "* Save the file in the folder `/data/`.\n",
    "* The filename should be `tmy_51.498_6.549_2005_2020.csv`.\n",
    "* Open the csv file in a **text editor(!)** and **study the data structure**. Look at all the different text segments. Scroll down to the end of the text file, too."
   ]
  },
  {
   "cell_type": "markdown",
   "id": "a8e4f33a-23d5-44c3-9edd-f3b7be661b3d",
   "metadata": {},
   "source": [
    "#### Q 5.1 (1P): Use the right PVLIB function to read the PVGIS TMY data file. ####"
   ]
  },
  {
   "cell_type": "markdown",
   "id": "09419730-c007-40ae-be1c-43346e128ffe",
   "metadata": {},
   "source": [
    "Read the TMY data and understand the data structure! Print or display the different elements of `tmy`."
   ]
  },
  {
   "cell_type": "code",
   "execution_count": null,
   "id": "dfaaec7c-0b05-404b-9cb2-09e51ef4e3f8",
   "metadata": {},
   "outputs": [],
   "source": [
    "# Your code:\n",
    "\n",
    "# tmy = pvlib....\n",
    "# display(type(tmy))\n",
    "# print(f\"{len(tmy) = }\")\n",
    "# display(tmy[1])\n",
    "# ...\n",
    "\n"
   ]
  },
  {
   "cell_type": "markdown",
   "id": "a8fb6bb2-cde9-4aa1-9ba3-92ddb9a768ca",
   "metadata": {},
   "source": [
    "#### Q 5.2 (1P): Convert all times in the tmy dataframe to year 2022 and plot all GHI data together!\n",
    "\n",
    "This is a bit tricky. **Copilot of GPT do not find the smartest solution**, at least not with my prompts.\n",
    "\n",
    "**Instead of AI use** the real cool **NI** concentated **on stackoverflow.com!** (NI: Natural intelligence).\n",
    "\n",
    "**Search** [**stackoverflow**](https://stackoverflow.com/) for `\"Change date of a DateTimeIndex\"`. One of the solutions suggests to use the function `map()` together with an unnamed `lambda`function performing a `replace`. This is a super smart pythonic solution, because it vectorizes the conversion. Apply the proposed solution but just replace the year of the date. **Try to understand it!**"
   ]
  },
  {
   "cell_type": "code",
   "execution_count": null,
   "id": "d5ba12a1-cb12-4884-9b7c-8ce67409f6c4",
   "metadata": {},
   "outputs": [],
   "source": [
    "# Your code:\n",
    "\n",
    "# tmy[0].index = ...\n",
    "\n"
   ]
  },
  {
   "cell_type": "code",
   "execution_count": null,
   "id": "ce4d3c0f-0ed0-44f9-ab03-41795adbeae5",
   "metadata": {},
   "outputs": [],
   "source": []
  },
  {
   "cell_type": "code",
   "execution_count": null,
   "id": "7f783fd2-d999-4688-ab0c-b6bb951f8cb4",
   "metadata": {},
   "outputs": [],
   "source": [
    "# You code:\n",
    "\n",
    "# fig, ax = plt.subplots(figsize=(12,6))\n",
    "# ...\n",
    "\n"
   ]
  },
  {
   "cell_type": "markdown",
   "id": "ebbb62ba-cf84-49d2-a834-a67e78e759fd",
   "metadata": {},
   "source": [
    "##### Example Output\n",
    "\n",
    "When you are smart and invest time in formatting your figure could look something like:\n",
    "\n",
    "<img src=\"./images/GHI_final_example.png\" width=800 />\n",
    "\n",
    "**Observations** for this particular example output (Other analysis time ranges might give diofferent insights):\n",
    "\n",
    "* The GHI measurements of the HSRW weather station and the nearest DWD station with GHI data in 10 minutes resolution match very well.\n",
    "* The predicted clear sky irrandiance maximum is approx. 10% less than the observations for observation days 1 and 2. Why? Is this physical or a mistake`?\n",
    "* The measured irradiances exceed the statistically estimated TMY irradiances by far for day 1 and 2.\n",
    "* The measured irradiances match the statistically estimated TMY irradiances partly well for day 3.\n"
   ]
  },
  {
   "cell_type": "markdown",
   "id": "8f7d7acc-24b1-40bd-83c4-f5600f968419",
   "metadata": {},
   "source": [
    "#### Q 5.3 (0P): What are your observations for your data?"
   ]
  },
  {
   "cell_type": "markdown",
   "id": "e58b3381-dabe-46c0-a973-b1de3a0c2463",
   "metadata": {},
   "source": [
    "**Answer:** ..."
   ]
  },
  {
   "cell_type": "code",
   "execution_count": null,
   "id": "52bd7d28-6ff3-42a4-810e-520dd298d141",
   "metadata": {},
   "outputs": [],
   "source": []
  }
 ],
 "metadata": {
  "kernelspec": {
   "display_name": "Python 3 (ipykernel)",
   "language": "python",
   "name": "python3"
  },
  "language_info": {
   "codemirror_mode": {
    "name": "ipython",
    "version": 3
   },
   "file_extension": ".py",
   "mimetype": "text/x-python",
   "name": "python",
   "nbconvert_exporter": "python",
   "pygments_lexer": "ipython3",
   "version": "3.11.6"
  }
 },
 "nbformat": 4,
 "nbformat_minor": 5
}
